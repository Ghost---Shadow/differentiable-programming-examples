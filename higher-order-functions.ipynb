{
 "cells": [
  {
   "cell_type": "markdown",
   "metadata": {},
   "source": [
    "# Higher order functions\n",
    "\n",
    "Not to be confused with higher order derivatives.\n",
    "\n",
    "[Higher order functions](https://en.wikipedia.org/wiki/Higher-order_function) are functions which return a function."
   ]
  },
  {
   "cell_type": "code",
   "execution_count": 1,
   "metadata": {},
   "outputs": [],
   "source": [
    "import tensorflow as tf\n",
    "import numpy as np\n",
    "import matplotlib.pyplot as plt"
   ]
  },
  {
   "cell_type": "code",
   "execution_count": 2,
   "metadata": {},
   "outputs": [],
   "source": [
    "%matplotlib inline"
   ]
  },
  {
   "cell_type": "code",
   "execution_count": 3,
   "metadata": {},
   "outputs": [
    {
     "data": {
      "text/plain": [
       "[PhysicalDevice(name='/physical_device:GPU:0', device_type='GPU')]"
      ]
     },
     "execution_count": 3,
     "metadata": {},
     "output_type": "execute_result"
    }
   ],
   "source": [
    "tf.config.list_physical_devices('GPU')"
   ]
  },
  {
   "cell_type": "markdown",
   "metadata": {},
   "source": [
    "## Simple Example of a curried function\n",
    "\n",
    "[StackOverflow Example](https://stackoverflow.com/questions/36314/what-is-currying)\n",
    "\n",
    "We take two variables $x1$ and $x2$ and multiply them together. We can see that tensorflow is able to compute the gradient with respect both these variables.\n",
    "\n",
    "Note: Tensorflow 2.1.0 does not support `@tf.function` for functions that do not return a tensor. This may change in future. So, the outer function is executed eagerly, while the inner function is in graph mode."
   ]
  },
  {
   "cell_type": "code",
   "execution_count": 4,
   "metadata": {},
   "outputs": [],
   "source": [
    "def curried_generator(x1):\n",
    "    @tf.function\n",
    "    def inner(x2):\n",
    "        return x1 * x2\n",
    "    return inner"
   ]
  },
  {
   "cell_type": "code",
   "execution_count": 5,
   "metadata": {},
   "outputs": [
    {
     "name": "stdout",
     "output_type": "stream",
     "text": [
      "<tensorflow.python.eager.def_function.Function object at 0x000002D54407EC88>\n",
      "tf.Tensor([1. 2. 3.], shape=(3,), dtype=float32)\n",
      "tf.Tensor([2. 2. 2.], shape=(3,), dtype=float32)\n"
     ]
    }
   ],
   "source": [
    "x1 = tf.Variable([2,2,2], dtype=tf.float32)\n",
    "x2 = tf.Variable([1,2,3], dtype=tf.float32)\n",
    "\n",
    "with tf.GradientTape(persistent=True) as tape:\n",
    "    eqn = curried_generator(x1)\n",
    "    z = eqn(x2)\n",
    "    \n",
    "print(eqn)\n",
    "print(tape.gradient(z, x1))\n",
    "print(tape.gradient(z, x2))"
   ]
  },
  {
   "cell_type": "markdown",
   "metadata": {},
   "source": [
    "## Polynomial Regression\n",
    "\n",
    "Below is an example of a generator function, which takes a function definition as an argument and returns a function which has the same tensorflow graph as the polynomial. \n",
    "\n",
    "The equation is encoded as follows\n",
    "\n",
    "$$\n",
    "equation = 4x^2 + 3x ^ 3 + 2x ^ 5\n",
    "$$\n",
    "\n",
    "\\begin{equation*}\n",
    "definition = \n",
    "\\begin{bmatrix}\n",
    "constant & exponent \\\\\n",
    "4.0 & 2.0 \\\\\n",
    "3.0 & 3.0 \\\\\n",
    "2.0 & 5.0 \\\\\n",
    "\\end{bmatrix}\n",
    "\\end{equation*}"
   ]
  },
  {
   "cell_type": "code",
   "execution_count": 6,
   "metadata": {},
   "outputs": [],
   "source": [
    "def polynomial_generator(definition):\n",
    "    definition = tf.unstack(definition)\n",
    "    \n",
    "    @tf.function\n",
    "    def inner(x):\n",
    "        result = 0.0\n",
    "        for term in definition:\n",
    "            constant = term[0]\n",
    "            exponent = term[1]\n",
    "            result += constant * tf.pow(x, exponent)\n",
    "        return result\n",
    "    return inner"
   ]
  },
  {
   "cell_type": "code",
   "execution_count": 7,
   "metadata": {},
   "outputs": [
    {
     "name": "stdout",
     "output_type": "stream",
     "text": [
      "tf.Tensor([ 12.  46. 128.], shape=(3,), dtype=float32)\n",
      "tf.Tensor(\n",
      "[[  6.         9.364263]\n",
      " [ 14.        37.9803  ]\n",
      " [ 98.       100.07795 ]], shape=(3, 2), dtype=float32)\n"
     ]
    }
   ],
   "source": [
    "definition = tf.Variable([\n",
    "    [2.0, 1.0],\n",
    "    [3.0, 2.0],\n",
    "    [1.0, 4.0]\n",
    "], dtype=tf.float32) # 2 * x + 3 * x ^ 2 + 1 * x ^ 4\n",
    "x = tf.Variable([1,2,3], dtype=tf.float32)\n",
    "\n",
    "with tf.GradientTape(persistent=True) as tape:\n",
    "    eqn = polynomial_generator(definition)\n",
    "    z = eqn(x)\n",
    "    \n",
    "print(tape.gradient(z, x))\n",
    "print(tape.gradient(z, definition))"
   ]
  },
  {
   "cell_type": "code",
   "execution_count": 8,
   "metadata": {},
   "outputs": [
    {
     "name": "stdout",
     "output_type": "stream",
     "text": [
      "[[2 1]\n",
      " [3 2]\n",
      " [1 4]]\r\n"
     ]
    },
    {
     "data": {
      "text/plain": [
       "'+ 2.00 * x ^ 1.00 + 3.00 * x ^ 2.00 + 1.00 * x ^ 4.00 '"
      ]
     },
     "execution_count": 8,
     "metadata": {},
     "output_type": "execute_result"
    }
   ],
   "source": [
    "def pretty_print_definition(definition):\n",
    "    definition = tf.unstack(definition)\n",
    "    result = ''\n",
    "    template = \"{} {:.2f} * x ^ {:.2f} \"\n",
    "    for term in definition:\n",
    "        constant = np.round(term[0].numpy(), 2)\n",
    "        exponent = np.round(term[1].numpy(), 2)\n",
    "        sign_separator = '+' if constant >= 0 else ''\n",
    "        result += template.format(sign_separator, constant, exponent)\n",
    "    return result\n",
    "tf.print(definition)\n",
    "pretty_print_definition(definition)"
   ]
  },
  {
   "cell_type": "markdown",
   "metadata": {},
   "source": [
    "### Generating data\n",
    "\n",
    "To illustrate that the model can learn to fit a polynomial, we generate data for ground truth.\n",
    "\n",
    "We sample $100$ points uniformly between $0.0$ and $1.5$ for the equation below.\n",
    "\n",
    "$$\n",
    "equation = 2x - 3x ^ 2 + x ^ 4\n",
    "$$"
   ]
  },
  {
   "cell_type": "code",
   "execution_count": 9,
   "metadata": {},
   "outputs": [
    {
     "data": {
      "text/plain": [
       "'+ 2.00 * x ^ 1.00  -3.00 * x ^ 2.00 + 1.00 * x ^ 4.00 '"
      ]
     },
     "execution_count": 9,
     "metadata": {},
     "output_type": "execute_result"
    }
   ],
   "source": [
    "definition = tf.Variable([\n",
    "    [2.0, 1.0],\n",
    "    [-3.0, 2.0],\n",
    "    [1.0, 4.0]\n",
    "], dtype=tf.float32) # 2 * x - 3 * x ^ 2 + 1 * x ^ 4\n",
    "original_definition = definition # Take a backup\n",
    "pretty_print_definition(definition)"
   ]
  },
  {
   "cell_type": "code",
   "execution_count": 10,
   "metadata": {},
   "outputs": [
    {
     "data": {
      "image/png": "[encoded data removed]",
      "text/plain": [
       "<Figure size 432x288 with 1 Axes>"
      ]
     },
     "metadata": {
      "needs_background": "light"
     },
     "output_type": "display_data"
    }
   ],
   "source": [
    "eqn = polynomial_generator(definition)\n",
    "xs = tf.random.uniform((100,), dtype=tf.float32) * 1.5\n",
    "ys = eqn(xs)\n",
    "\n",
    "s_xs = tf.sort(xs)\n",
    "s_ys = eqn(s_xs)\n",
    "plt.plot(s_xs, s_ys)\n",
    "plt.show()"
   ]
  },
  {
   "cell_type": "markdown",
   "metadata": {},
   "source": [
    "### Training\n",
    "\n",
    "For training, we initialize a new function definition with uniform random variables.\n",
    "\n",
    "The loss is the L2 loss between the predicted $y$ and the ground truth $y$"
   ]
  },
  {
   "cell_type": "code",
   "execution_count": 11,
   "metadata": {},
   "outputs": [],
   "source": [
    "opt = tf.keras.optimizers.Adam()\n",
    "\n",
    "definition = tf.Variable(tf.random.uniform((3, 2)), dtype=tf.float32)\n",
    "\n",
    "@tf.function\n",
    "def train_step():\n",
    "    with tf.GradientTape() as tape:\n",
    "        eqn = polynomial_generator(definition) # Generate a new equation with updated definition\n",
    "        ys_ = eqn(xs) # Predict new y\n",
    "        loss = tf.nn.l2_loss(ys - ys_) # Find loss\n",
    "    grads = tape.gradient(loss, definition)\n",
    "    opt.apply_gradients(zip([grads], [definition])) # Update the polynomial definition\n",
    "    return loss"
   ]
  },
  {
   "cell_type": "code",
   "execution_count": 12,
   "metadata": {},
   "outputs": [
    {
     "name": "stdout",
     "output_type": "stream",
     "text": [
      "43.2280502 12.9161654\n",
      "2.83604884 12.8302612\n",
      "2.55241275 10.8775578\n",
      "1.73262882 7.27807283\n",
      "0.860218048 5.23413849\n",
      "0.269716203 4.44122219\n",
      "0.0641011596 4.31855488\n",
      "0.0329511911 4.08917236\n",
      "0.0242073368 3.71410298\n",
      "0.0187329985 3.36848712\n"
     ]
    }
   ],
   "source": [
    "for i in range(10000):\n",
    "    loss = train_step()\n",
    "    if i % 1000 == 0:\n",
    "        equation_deviation = tf.nn.l2_loss(definition - original_definition)\n",
    "        tf.print(loss, equation_deviation)"
   ]
  },
  {
   "cell_type": "markdown",
   "metadata": {},
   "source": [
    "### Results\n",
    "\n",
    "The generated equation varies between runs but it resembles the ground truth equation, closely."
   ]
  },
  {
   "cell_type": "code",
   "execution_count": 13,
   "metadata": {},
   "outputs": [
    {
     "data": {
      "image/png": "[encoded data removed]",
      "text/plain": [
       "<Figure size 432x288 with 1 Axes>"
      ]
     },
     "metadata": {
      "needs_background": "light"
     },
     "output_type": "display_data"
    }
   ],
   "source": [
    "eqn = polynomial_generator(definition)\n",
    "ns_ys = eqn(s_xs)\n",
    "plt.plot(s_xs, ns_ys, color='red',linestyle='--', label='fitted')\n",
    "plt.plot(s_xs, s_ys, color='blue',linestyle='dotted', label='actual')\n",
    "plt.legend()\n",
    "plt.show()"
   ]
  },
  {
   "cell_type": "code",
   "execution_count": 14,
   "metadata": {},
   "outputs": [
    {
     "name": "stdout",
     "output_type": "stream",
     "text": [
      "+ 2.00 * x ^ 1.00  -3.00 * x ^ 2.00 + 1.00 * x ^ 4.00 \n",
      "+ 0.80 * x ^ 0.60  -1.25 * x ^ 2.30 + 0.46 * x ^ 5.00 \n"
     ]
    }
   ],
   "source": [
    "print(pretty_print_definition(original_definition))\n",
    "print(pretty_print_definition(definition))"
   ]
  },
  {
   "cell_type": "code",
   "execution_count": null,
   "metadata": {},
   "outputs": [],
   "source": []
  }
 ],
 "metadata": {
  "kernelspec": {
   "display_name": "Python 3",
   "language": "python",
   "name": "python3"
  },
  "language_info": {
   "codemirror_mode": {
    "name": "ipython",
    "version": 3
   },
   "file_extension": ".py",
   "mimetype": "text/x-python",
   "name": "python",
   "nbconvert_exporter": "python",
   "pygments_lexer": "ipython3",
   "version": "3.7.6"
  }
 },
 "nbformat": 4,
 "nbformat_minor": 4
}
