{
 "cells": [
  {
   "cell_type": "code",
   "execution_count": 1,
   "metadata": {},
   "outputs": [],
   "source": [
    "import tensorflow as tf"
   ]
  },
  {
   "cell_type": "code",
   "execution_count": 2,
   "metadata": {},
   "outputs": [
    {
     "name": "stdout",
     "output_type": "stream",
     "text": [
      "[[0 0 1]] [1 1 1]\n",
      "[[0 0.5 0.5]] [1 1 1]\n",
      "[[1 0 0]] [1 1 1]\n"
     ]
    }
   ],
   "source": [
    "@tf.function\n",
    "def shift_left_one_hot(vec, shift=-1):\n",
    "    P = tf.eye(tf.shape(vec)[0])\n",
    "    P = tf.roll(P, shift=shift, axis=0)\n",
    "    \n",
    "    vec = tf.expand_dims(vec, 0)\n",
    "    \n",
    "    return vec @ P\n",
    "\n",
    "vec1 = tf.Variable([0,1,0], dtype=tf.float32)\n",
    "vec2 = tf.Variable([0.5,0.5,0], dtype=tf.float32)\n",
    "vec3 = tf.Variable([0,0,1], dtype=tf.float32)\n",
    "\n",
    "with tf.GradientTape(persistent=True) as tape:\n",
    "    nv1 = shift_left_one_hot(vec1)\n",
    "    nv2 = shift_left_one_hot(vec2)\n",
    "    nv3 = shift_left_one_hot(vec3)\n",
    "\n",
    "tf.print(nv1, tape.gradient(nv1, vec1))\n",
    "tf.print(nv2, tape.gradient(nv2, vec2))\n",
    "tf.print(nv3, tape.gradient(nv3, vec3))"
   ]
  },
  {
   "cell_type": "code",
   "execution_count": null,
   "metadata": {},
   "outputs": [],
   "source": []
  }
 ],
 "metadata": {
  "kernelspec": {
   "display_name": "Python 3",
   "language": "python",
   "name": "python3"
  },
  "language_info": {
   "codemirror_mode": {
    "name": "ipython",
    "version": 3
   },
   "file_extension": ".py",
   "mimetype": "text/x-python",
   "name": "python",
   "nbconvert_exporter": "python",
   "pygments_lexer": "ipython3",
   "version": "3.7.6"
  }
 },
 "nbformat": 4,
 "nbformat_minor": 4
}
