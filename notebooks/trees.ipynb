{
 "cells": [
  {
   "cell_type": "code",
   "execution_count": 1,
   "metadata": {},
   "outputs": [],
   "source": [
    "import tensorflow as tf"
   ]
  },
  {
   "cell_type": "code",
   "execution_count": 2,
   "metadata": {},
   "outputs": [
    {
     "name": "stdout",
     "output_type": "stream",
     "text": [
      "1 [0 0 0]\n",
      "0 [1 0 0]\n",
      "0.707106769 [0.707106829 -0.707106709 0]\n"
     ]
    }
   ],
   "source": [
    "@tf.function\n",
    "def is_phi(element):\n",
    "    elem_dim = tf.shape(element)[0]\n",
    "    phi = tf.one_hot(0, elem_dim)\n",
    "    \n",
    "    element = tf.math.l2_normalize(element)\n",
    "    t = tf.tensordot(element, phi, axes=1)\n",
    "\n",
    "    return t\n",
    "\n",
    "test1 = tf.Variable([1,0,0], dtype=tf.float32)\n",
    "test2 = tf.Variable([0,1,0], dtype=tf.float32)\n",
    "test3 = tf.Variable([.5,.5,0], dtype=tf.float32)\n",
    "\n",
    "with tf.GradientTape(persistent=True) as tape:\n",
    "    result1 = is_phi(test1)\n",
    "    result2 = is_phi(test2)\n",
    "    result3 = is_phi(test3)\n",
    "\n",
    "tf.print(result1, tape.gradient(result1, test1))\n",
    "tf.print(result2, tape.gradient(result2, test2))\n",
    "tf.print(result3, tape.gradient(result3, test3))"
   ]
  },
  {
   "cell_type": "code",
   "execution_count": 3,
   "metadata": {},
   "outputs": [],
   "source": [
    "from library.stacks import stack_push, stack_pop"
   ]
  },
  {
   "cell_type": "code",
   "execution_count": 4,
   "metadata": {},
   "outputs": [
    {
     "name": "stdout",
     "output_type": "stream",
     "text": [
      "[[0 1 0]\n",
      " [0 0 1]\n",
      " [0 1 0]]\n",
      "[1 0 0]\n",
      "[-1 1 1]\n"
     ]
    }
   ],
   "source": [
    "@tf.function\n",
    "def safe_push(state, element, is_phi_fn):\n",
    "    t = is_phi_fn(element)\n",
    "\n",
    "    old_buffer, old_index = state\n",
    "    new_buffer, new_index = stack_push(state, element)\n",
    "\n",
    "    buffer = t * old_buffer + (1 - t) * new_buffer\n",
    "    index = t * old_index + (1 - t) * new_index\n",
    "\n",
    "    new_state = (buffer, index)\n",
    "\n",
    "    return new_state\n",
    "\n",
    "buffer = tf.zeros((3,3), dtype=tf.float32)\n",
    "index = tf.one_hot(0, 3, dtype=tf.float32)\n",
    "state = (buffer, index)\n",
    "\n",
    "element1 = tf.Variable([0,1,0], dtype=tf.float32)\n",
    "element2 = tf.Variable([1,0,0], dtype=tf.float32)\n",
    "element3 = tf.Variable([0,0,1], dtype=tf.float32)\n",
    "element4 = tf.Variable([0,1,0], dtype=tf.float32)\n",
    "\n",
    "with tf.GradientTape() as tape:\n",
    "    state = safe_push(state, element1, is_phi)\n",
    "    state = safe_push(state, element2, is_phi)\n",
    "    state = safe_push(state, element3, is_phi)\n",
    "    state = safe_push(state, element4, is_phi)\n",
    "    \n",
    "tf.print(state[0])\n",
    "tf.print(state[1])\n",
    "tf.print(tape.gradient(state[0], element3))"
   ]
  },
  {
   "cell_type": "code",
   "execution_count": 5,
   "metadata": {},
   "outputs": [
    {
     "name": "stdout",
     "output_type": "stream",
     "text": [
      "[[0 1 0]\n",
      " [0.0428932235 0.0428932235 0.707106769]\n",
      " [0 0.707106769 0.0857864469]]\n",
      "[[0 1 0]\n",
      " [0 0 1]\n",
      " [0 1 0]]\n",
      "[0.707106769 0.292893231 0]\n",
      "[1 0 0]\n",
      "[0.0606601834 0.792893231 0.792893231]\n"
     ]
    }
   ],
   "source": [
    "buffer = tf.zeros((3,3), dtype=tf.float32)\n",
    "index = tf.one_hot(0, 3, dtype=tf.float32)\n",
    "state = (buffer, index)\n",
    "\n",
    "element1 = tf.Variable([0,1,0], dtype=tf.float32)\n",
    "element2 = tf.Variable([0.5,0.5,0], dtype=tf.float32)\n",
    "element3 = tf.Variable([0,0,1], dtype=tf.float32)\n",
    "element4 = tf.Variable([0,1,0], dtype=tf.float32)\n",
    "\n",
    "with tf.GradientTape() as tape:\n",
    "    state = safe_push(state, element1, is_phi)\n",
    "    state = safe_push(state, element2, is_phi)\n",
    "    state = safe_push(state, element3, is_phi)\n",
    "    state = safe_push(state, element4, is_phi)\n",
    "    \n",
    "tf.print(state[0])\n",
    "tf.print(tf.round(state[0]))\n",
    "tf.print(state[1])\n",
    "tf.print(tf.round(state[1]))\n",
    "tf.print(tape.gradient(state[0], element3))"
   ]
  },
  {
   "cell_type": "code",
   "execution_count": 6,
   "metadata": {},
   "outputs": [],
   "source": [
    "from library.array_ops import tensor_lookup_2d"
   ]
  },
  {
   "cell_type": "code",
   "execution_count": 7,
   "metadata": {},
   "outputs": [],
   "source": [
    "# @tf.function\n",
    "def production_step(grammar, productions, state, output, is_phi):\n",
    "    G_s, G_o = grammar\n",
    "    \n",
    "    next_nt = stack_pop(state)\n",
    "    next_p = stack_pop(productions)\n",
    "\n",
    "    next_state = tensor_lookup_2d(G_s, next_nt, next_p)\n",
    "    next_output = tensor_lookup_2d(G_o, next_nt, next_p)\n",
    "\n",
    "    stack = safe_push(state, next_state, is_phi)\n",
    "    output = safe_push(output, next_output, is_phi)\n",
    "    \n",
    "    return productions, state, output"
   ]
  },
  {
   "cell_type": "code",
   "execution_count": 8,
   "metadata": {},
   "outputs": [],
   "source": [
    "# @tf.function\n",
    "def generate(grammar, productions, stack_shape, S, is_phi):\n",
    "    top = 0\n",
    "    stack = tf.constant(tf.zeros(stack_shape), dtype=tf.float32)\n",
    "    state = (stack, top)\n",
    "    stack = safe_push(state, S, is_phi)\n",
    "    \n",
    "    output_top = 0\n",
    "    output_buffer = tf.constant(tf.zeros(stack_shape), dtype=tf.float32)\n",
    "    output = (output_buffer, output_top)\n",
    "\n",
    "    while top > 0:\n",
    "        step = production_step(grammar, productions, state, output, is_phi)\n",
    "        productions, state, output = step\n",
    "        _, top = state\n",
    "        \n",
    "    return output"
   ]
  },
  {
   "cell_type": "code",
   "execution_count": null,
   "metadata": {},
   "outputs": [],
   "source": []
  }
 ],
 "metadata": {
  "kernelspec": {
   "display_name": "Python 3",
   "language": "python",
   "name": "python3"
  },
  "language_info": {
   "codemirror_mode": {
    "name": "ipython",
    "version": 3
   },
   "file_extension": ".py",
   "mimetype": "text/x-python",
   "name": "python",
   "nbconvert_exporter": "python",
   "pygments_lexer": "ipython3",
   "version": "3.7.6"
  }
 },
 "nbformat": 4,
 "nbformat_minor": 4
}
