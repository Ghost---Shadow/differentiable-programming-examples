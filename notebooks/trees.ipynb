{
 "cells": [
  {
   "cell_type": "code",
   "execution_count": 1,
   "metadata": {},
   "outputs": [],
   "source": [
    "import tensorflow as tf"
   ]
  },
  {
   "cell_type": "code",
   "execution_count": 2,
   "metadata": {},
   "outputs": [],
   "source": [
    "from library.stacks import stack_push, stack_pop"
   ]
  },
  {
   "cell_type": "code",
   "execution_count": 3,
   "metadata": {},
   "outputs": [],
   "source": [
    "# @tf.function\n",
    "def is_phi(element):\n",
    "    return tf.argmax(element) == 0"
   ]
  },
  {
   "cell_type": "code",
   "execution_count": 4,
   "metadata": {},
   "outputs": [],
   "source": [
    "# @tf.function\n",
    "def safe_push(state, element, is_phi):\n",
    "    if is_phi(element):\n",
    "        return state\n",
    "    else:\n",
    "        return stack_push(state, element)"
   ]
  },
  {
   "cell_type": "code",
   "execution_count": 5,
   "metadata": {},
   "outputs": [],
   "source": [
    "from library.array_ops import tensor_lookup_2d"
   ]
  },
  {
   "cell_type": "code",
   "execution_count": 6,
   "metadata": {},
   "outputs": [],
   "source": [
    "# @tf.function\n",
    "def production_step(grammar, productions, state, output, is_phi):\n",
    "    G_s, G_o = grammar\n",
    "    \n",
    "    next_nt = stack_pop(state)\n",
    "    next_p = stack_pop(productions)\n",
    "\n",
    "    next_state = tensor_lookup_2d(G_s, next_nt, next_p)\n",
    "    next_output = tensor_lookup_2d(G_o, next_nt, next_p)\n",
    "\n",
    "    stack = safe_push(state, next_state, is_phi)\n",
    "    output = safe_push(output, next_output, is_phi)\n",
    "    \n",
    "    return productions, state, output"
   ]
  },
  {
   "cell_type": "code",
   "execution_count": 7,
   "metadata": {},
   "outputs": [],
   "source": [
    "# @tf.function\n",
    "def generate(grammar, productions, stack_shape, S, is_phi):\n",
    "    top = 0\n",
    "    stack = tf.constant(tf.zeros(stack_shape), dtype=tf.float32)\n",
    "    state = (stack, top)\n",
    "    stack = safe_push(state, S, is_phi)\n",
    "    \n",
    "    output_top = 0\n",
    "    output_buffer = tf.constant(tf.zeros(stack_shape), dtype=tf.float32)\n",
    "    output = (output_buffer, output_top)\n",
    "\n",
    "    while top > 0:\n",
    "        step = production_step(grammar, productions, state, output, is_phi)\n",
    "        productions, state, output = step\n",
    "        _, top = state\n",
    "        \n",
    "    return output"
   ]
  },
  {
   "cell_type": "code",
   "execution_count": null,
   "metadata": {},
   "outputs": [],
   "source": []
  }
 ],
 "metadata": {
  "kernelspec": {
   "display_name": "Python 3",
   "language": "python",
   "name": "python3"
  },
  "language_info": {
   "codemirror_mode": {
    "name": "ipython",
    "version": 3
   },
   "file_extension": ".py",
   "mimetype": "text/x-python",
   "name": "python",
   "nbconvert_exporter": "python",
   "pygments_lexer": "ipython3",
   "version": "3.7.6"
  }
 },
 "nbformat": 4,
 "nbformat_minor": 4
}
