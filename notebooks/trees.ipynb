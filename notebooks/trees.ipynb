{
 "cells": [
  {
   "cell_type": "code",
   "execution_count": 1,
   "metadata": {},
   "outputs": [],
   "source": [
    "import tensorflow as tf\n",
    "import numpy as np"
   ]
  },
  {
   "cell_type": "code",
   "execution_count": 2,
   "metadata": {},
   "outputs": [],
   "source": [
    "tf.config.experimental_run_functions_eagerly(True)"
   ]
  },
  {
   "cell_type": "code",
   "execution_count": 3,
   "metadata": {},
   "outputs": [
    {
     "name": "stdout",
     "output_type": "stream",
     "text": [
      "1 [0 0 0]\n",
      "0 [1 0 0]\n",
      "0.707106769 [0.707106829 -0.707106709 0]\n"
     ]
    }
   ],
   "source": [
    "@tf.function\n",
    "def is_phi(element):\n",
    "    tf.debugging.assert_rank(element, 1)\n",
    "    \n",
    "    elem_dim = tf.shape(element)[0]\n",
    "    phi = tf.one_hot(0, elem_dim)\n",
    "    \n",
    "    element = tf.math.l2_normalize(element)\n",
    "    t = tf.tensordot(element, phi, axes=1)\n",
    "\n",
    "    return t\n",
    "\n",
    "test1 = tf.Variable([1,0,0], dtype=tf.float32)\n",
    "test2 = tf.Variable([0,1,0], dtype=tf.float32)\n",
    "test3 = tf.Variable([.5,.5,0], dtype=tf.float32)\n",
    "\n",
    "with tf.GradientTape(persistent=True) as tape:\n",
    "    result1 = is_phi(test1)\n",
    "    result2 = is_phi(test2)\n",
    "    result3 = is_phi(test3)\n",
    "\n",
    "tf.print(result1, tape.gradient(result1, test1))\n",
    "tf.print(result2, tape.gradient(result2, test2))\n",
    "tf.print(result3, tape.gradient(result3, test3))"
   ]
  },
  {
   "cell_type": "code",
   "execution_count": 4,
   "metadata": {},
   "outputs": [],
   "source": [
    "from library.stacks import stack_push, stack_pop"
   ]
  },
  {
   "cell_type": "code",
   "execution_count": 5,
   "metadata": {},
   "outputs": [
    {
     "name": "stdout",
     "output_type": "stream",
     "text": [
      "[[0 1 0]\n",
      " [0.0428932235 0.0428932235 0.707106769]\n",
      " [0 0.707106769 0.0857864469]]\n",
      "[[0 1 0]\n",
      " [0 0 1]\n",
      " [0 1 0]]\n",
      "[0.707106769 0.292893231 0]\n",
      "[1 0 0]\n",
      "[0.0606601834 0.792893231 0.792893231]\n",
      "([[0 0 0]\n",
      " [0.207106784 0.207106784 0.207106784]\n",
      " [0.207106799 0.207106799 0.207106799]], [2.87867975 1.53553391 1.76776707])\n"
     ]
    }
   ],
   "source": [
    "@tf.function\n",
    "def safe_push(stack, element, is_phi_fn):\n",
    "    tf.debugging.assert_rank_at_least(stack[0], 2)\n",
    "    tf.debugging.assert_rank(stack[1], 1)\n",
    "    tf.debugging.assert_equal(tf.shape(stack[0])[1:], tf.shape(element))\n",
    "    tf.debugging.assert_equal(tf.rank(stack[0]) - 1, tf.rank(element) )\n",
    "    \n",
    "    t = is_phi_fn(element)\n",
    "    \n",
    "    old_buffer, old_index = stack\n",
    "    new_buffer, new_index = stack_push(stack, element)\n",
    "\n",
    "    buffer = t * old_buffer + (1 - t) * new_buffer\n",
    "    index = t * old_index + (1 - t) * new_index\n",
    "\n",
    "    new_stack = (buffer, index)\n",
    "\n",
    "    return new_stack\n",
    "\n",
    "buffer = tf.Variable(tf.zeros((3,3), dtype=tf.float32))\n",
    "index = tf.Variable(tf.one_hot(0, 3, dtype=tf.float32))\n",
    "stack = (buffer, index)\n",
    "original_stack = stack\n",
    "\n",
    "element1 = tf.Variable([0,1,0], dtype=tf.float32)\n",
    "element2 = tf.Variable([0.5,0.5,0], dtype=tf.float32)\n",
    "element3 = tf.Variable([0,0,1], dtype=tf.float32)\n",
    "element4 = tf.Variable([0,1,0], dtype=tf.float32)\n",
    "\n",
    "with tf.GradientTape(persistent=True) as tape:\n",
    "    stack = safe_push(stack, element1, is_phi)\n",
    "    stack = safe_push(stack, element2, is_phi)\n",
    "    stack = safe_push(stack, element3, is_phi)\n",
    "    stack = safe_push(stack, element4, is_phi)\n",
    "    \n",
    "tf.print(stack[0])\n",
    "tf.print(tf.round(stack[0]))\n",
    "tf.print(stack[1])\n",
    "tf.print(tf.round(stack[1]))\n",
    "tf.print(tape.gradient(stack[0], element3))\n",
    "tf.print(tape.gradient(stack, original_stack))"
   ]
  },
  {
   "cell_type": "code",
   "execution_count": 6,
   "metadata": {},
   "outputs": [
    {
     "name": "stdout",
     "output_type": "stream",
     "text": [
      "[[0 1 0]\n",
      " [0 0 1]\n",
      " [0 1 0]]\n",
      "[1 0 0]\n",
      "[-1 1 1]\n",
      "([[0 0 0]\n",
      " [0 0 0]\n",
      " [0 0 0]], [4 1 1])\n"
     ]
    }
   ],
   "source": [
    "buffer = tf.Variable(tf.zeros((3,3), dtype=tf.float32))\n",
    "index = tf.Variable(tf.one_hot(0, 3, dtype=tf.float32))\n",
    "stack = (buffer, index)\n",
    "\n",
    "element1 = tf.Variable([0,1,0], dtype=tf.float32)\n",
    "element2 = tf.Variable([1,0,0], dtype=tf.float32)\n",
    "element3 = tf.Variable([0,0,1], dtype=tf.float32)\n",
    "element4 = tf.Variable([0,1,0], dtype=tf.float32)\n",
    "\n",
    "original_stack = stack\n",
    "\n",
    "with tf.GradientTape(persistent=True) as tape:\n",
    "    stack = safe_push(stack, element1, is_phi)\n",
    "    stack = safe_push(stack, element2, is_phi)\n",
    "    stack = safe_push(stack, element3, is_phi)\n",
    "    stack = safe_push(stack, element4, is_phi)\n",
    "    \n",
    "tf.print(stack[0])\n",
    "tf.print(stack[1])\n",
    "tf.print(tape.gradient(stack[0], element3))\n",
    "tf.print(tape.gradient(stack, original_stack))"
   ]
  },
  {
   "cell_type": "code",
   "execution_count": 7,
   "metadata": {},
   "outputs": [],
   "source": [
    "from library.array_ops import tensor_lookup_2d"
   ]
  },
  {
   "cell_type": "code",
   "execution_count": 8,
   "metadata": {},
   "outputs": [],
   "source": [
    "@tf.function\n",
    "def production_step(grammar, productions, stack, output, is_phi_fn):\n",
    "    tf.debugging.assert_rank(grammar[0], 4)\n",
    "    tf.debugging.assert_rank(grammar[1], 4)\n",
    "    tf.debugging.assert_rank(productions[0], 2)\n",
    "    tf.debugging.assert_rank(stack[0], 2)\n",
    "    tf.debugging.assert_rank(output[0], 2)\n",
    "    \n",
    "    G_s, G_o = grammar\n",
    "    \n",
    "    # Get next token from stack\n",
    "    stack, stack_top_token = stack_pop(stack)\n",
    "    \n",
    "    # Get next production\n",
    "    productions, next_prod = stack_pop(productions)\n",
    "\n",
    "    # Push tokens back onto the stack\n",
    "    tokens_to_push = tensor_lookup_2d(G_s, next_prod, stack_top_token)\n",
    "    for token in tokens_to_push:\n",
    "        stack = safe_push(stack, token, is_phi_fn)\n",
    "    \n",
    "    # Push tokens to output\n",
    "    tokens_to_push = tensor_lookup_2d(G_o, next_prod, stack_top_token)\n",
    "    for token in tokens_to_push:\n",
    "        output = safe_push(output, token, is_phi_fn)\n",
    "    \n",
    "    return productions, stack, output\n",
    "\n",
    "TOKEN_DIM = 6\n",
    "PRODUCTION_DIM = 4\n",
    "STACK_SIZE = 10\n",
    "PHI = np.eye(TOKEN_DIM)[0]\n",
    "S = np.eye(TOKEN_DIM)[1]\n",
    "O = np.eye(TOKEN_DIM)[2]\n",
    "T = np.eye(TOKEN_DIM)[3]\n",
    "X = np.eye(TOKEN_DIM)[4]\n",
    "PLUS = np.eye(TOKEN_DIM)[5]\n",
    "\n",
    "E = [PHI, PHI, PHI]\n",
    "\n",
    "G_s = tf.constant([\n",
    "    [E, E, E, E, E, E],\n",
    "    [E, E, E, E, E, E],\n",
    "    [E, [S, O, T], E, E, E, E],\n",
    "    [E, [T, PHI, PHI], E, E, E, E],\n",
    "], dtype=tf.float32)\n",
    "G_o = tf.constant([\n",
    "    [E, E, [PLUS, PHI, PHI], [X, PHI, PHI], E, E],\n",
    "    [E, E, E, E, E, E],\n",
    "    [E, E, E, E, E, E],\n",
    "    [E, E, E, E, E, E],\n",
    "], dtype=tf.float32)\n",
    "grammar = (G_s, G_o)\n",
    "\n",
    "buffer1 = tf.zeros((STACK_SIZE, TOKEN_DIM), dtype=tf.float32)\n",
    "index1 = tf.one_hot(0, STACK_SIZE, dtype=tf.float32)\n",
    "stack = (buffer1, index1)\n",
    "stack = safe_push(stack, tf.constant(S, dtype=tf.float32), is_phi)\n",
    "\n",
    "buffer2 = tf.zeros((STACK_SIZE, TOKEN_DIM), dtype=tf.float32)\n",
    "index2 = tf.one_hot(0, STACK_SIZE, dtype=tf.float32)\n",
    "output = (buffer2, index2)\n",
    "\n",
    "buffer3 = tf.zeros((STACK_SIZE, PRODUCTION_DIM), dtype=tf.float32)\n",
    "index3 = tf.one_hot(0, STACK_SIZE, dtype=tf.float32)\n",
    "productions = (buffer3, index3)\n",
    "productions = safe_push(productions, tf.one_hot(2, PRODUCTION_DIM), is_phi)\n",
    "\n",
    "with tf.GradientTape(persistent = True) as tape:\n",
    "    tape.watch(grammar)\n",
    "    tape.watch(productions)\n",
    "    tape.watch(stack)\n",
    "    tape.watch(output)\n",
    "    \n",
    "    new_p, new_s, new_o = production_step(grammar, productions, stack, output, is_phi)\n",
    "\n",
    "# tf.print(new_p[1])\n",
    "# tf.print(new_s[0][0])\n",
    "# tf.print(new_s[0][1])\n",
    "# tf.print(new_s[0][2])\n",
    "# tf.print(tape.gradient(new_p, productions))\n",
    "# tf.print(tape.gradient(new_o, output))\n",
    "# tf.print(tape.gradient(new_s, stack))\n",
    "# tf.print(tape.gradient(new_s[0], grammar[0]).shape)\n",
    "# tf.print(tape.gradient(new_s[1], grammar[0]).shape)\n",
    "# tf.print(tape.gradient(new_o[0], grammar[1]).shape)\n",
    "# tf.print(tape.gradient(new_o[1], grammar[1]).shape)\n",
    "# tf.print(tape.gradient(new_s, productions))"
   ]
  },
  {
   "cell_type": "code",
   "execution_count": 9,
   "metadata": {},
   "outputs": [],
   "source": [
    "# @tf.function\n",
    "def generate(grammar, productions, stack_shape, S, is_phi):\n",
    "    top = 0\n",
    "    stack = tf.constant(tf.zeros(stack_shape), dtype=tf.float32)\n",
    "    state = (stack, top)\n",
    "    stack = safe_push(state, S, is_phi)\n",
    "    \n",
    "    output_top = 0\n",
    "    output_buffer = tf.constant(tf.zeros(stack_shape), dtype=tf.float32)\n",
    "    output = (output_buffer, output_top)\n",
    "\n",
    "    while top > 0:\n",
    "        step = production_step(grammar, productions, state, output, is_phi)\n",
    "        productions, state, output = step\n",
    "        _, top = state\n",
    "        \n",
    "    return output"
   ]
  },
  {
   "cell_type": "code",
   "execution_count": null,
   "metadata": {},
   "outputs": [],
   "source": []
  }
 ],
 "metadata": {
  "kernelspec": {
   "display_name": "Python 3",
   "language": "python",
   "name": "python3"
  },
  "language_info": {
   "codemirror_mode": {
    "name": "ipython",
    "version": 3
   },
   "file_extension": ".py",
   "mimetype": "text/x-python",
   "name": "python",
   "nbconvert_exporter": "python",
   "pygments_lexer": "ipython3",
   "version": "3.7.6"
  }
 },
 "nbformat": 4,
 "nbformat_minor": 4
}
