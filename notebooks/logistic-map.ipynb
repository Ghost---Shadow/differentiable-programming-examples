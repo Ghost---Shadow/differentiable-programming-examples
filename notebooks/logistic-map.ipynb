{
 "cells": [
  {
   "cell_type": "code",
   "execution_count": 1,
   "metadata": {},
   "outputs": [],
   "source": [
    "import tensorflow as tf"
   ]
  },
  {
   "cell_type": "code",
   "execution_count": 2,
   "metadata": {},
   "outputs": [
    {
     "name": "stdout",
     "output_type": "stream",
     "text": [
      "0.63\n",
      "1.19999981\n",
      "0.210000008\n"
     ]
    }
   ],
   "source": [
    "@tf.function\n",
    "def logistic_map(r, x_n):\n",
    "    return r * x_n * (1 - x_n)\n",
    "\n",
    "r = tf.Variable(3.0)\n",
    "x_n = tf.Variable(0.3)\n",
    "with tf.GradientTape(persistent=True) as tape:\n",
    "    y = logistic_map(r, x_n)\n",
    "    \n",
    "tf.print(y)\n",
    "tf.print(tape.gradient(y, x_n))\n",
    "tf.print(tape.gradient(y, r))"
   ]
  },
  {
   "cell_type": "code",
   "execution_count": 3,
   "metadata": {},
   "outputs": [
    {
     "name": "stdout",
     "output_type": "stream",
     "text": [
      "0.631621838\n",
      "1.04724312\n",
      "0.0521896482\n"
     ]
    }
   ],
   "source": [
    "@tf.function\n",
    "def chained_logistic_map(r, x_n, steps):\n",
    "    for _ in tf.range(steps):\n",
    "        x_n = logistic_map(r, x_n)\n",
    "        \n",
    "    return x_n\n",
    "\n",
    "r = tf.Variable(3.0)\n",
    "x_n = tf.Variable(0.3)\n",
    "with tf.GradientTape(persistent=True) as tape:\n",
    "    y = chained_logistic_map(r, x_n, 5)\n",
    "    \n",
    "tf.print(y)\n",
    "tf.print(tape.gradient(y, x_n))\n",
    "tf.print(tape.gradient(y, r))"
   ]
  },
  {
   "cell_type": "code",
   "execution_count": null,
   "metadata": {},
   "outputs": [],
   "source": []
  }
 ],
 "metadata": {
  "kernelspec": {
   "display_name": "Python 3",
   "language": "python",
   "name": "python3"
  },
  "language_info": {
   "codemirror_mode": {
    "name": "ipython",
    "version": 3
   },
   "file_extension": ".py",
   "mimetype": "text/x-python",
   "name": "python",
   "nbconvert_exporter": "python",
   "pygments_lexer": "ipython3",
   "version": "3.7.6"
  }
 },
 "nbformat": 4,
 "nbformat_minor": 4
}
