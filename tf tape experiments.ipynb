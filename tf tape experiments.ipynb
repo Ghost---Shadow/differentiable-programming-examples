{
 "cells": [
  {
   "cell_type": "code",
   "execution_count": 1,
   "metadata": {},
   "outputs": [],
   "source": [
    "import tensorflow as tf"
   ]
  },
  {
   "cell_type": "code",
   "execution_count": 2,
   "metadata": {},
   "outputs": [
    {
     "data": {
      "text/plain": [
       "6.0"
      ]
     },
     "execution_count": 2,
     "metadata": {},
     "output_type": "execute_result"
    }
   ],
   "source": [
    "x = tf.constant(3.0)\n",
    "# y = x ^ 2\n",
    "with tf.GradientTape() as t:\n",
    "  t.watch(x)\n",
    "  y = x * x\n",
    "# dy = 2x\n",
    "dy_dx = t.gradient(y, x)\n",
    "dy_dx.numpy()"
   ]
  },
  {
   "cell_type": "code",
   "execution_count": 3,
   "metadata": {},
   "outputs": [
    {
     "name": "stdout",
     "output_type": "stream",
     "text": [
      "tf.Tensor([9. 9.], shape=(2,), dtype=float32)\n",
      "tf.Tensor([6. 6.], shape=(2,), dtype=float32)\n"
     ]
    }
   ],
   "source": [
    "x = tf.constant([3.0, 3.0])\n",
    "\n",
    "with tf.GradientTape() as t:\n",
    "  t.watch(x)\n",
    "  z = tf.multiply(x, x)\n",
    "\n",
    "print(z)\n",
    "\n",
    "# Find derivative of z with respect to the original input tensor x\n",
    "print(t.gradient(z, x))"
   ]
  },
  {
   "cell_type": "code",
   "execution_count": 4,
   "metadata": {},
   "outputs": [
    {
     "name": "stdout",
     "output_type": "stream",
     "text": [
      "dy_dx: 3.0\n",
      "d2y_dx2: 6.0\n"
     ]
    }
   ],
   "source": [
    "x = tf.Variable(1.0)  # Create a Tensorflow variable initialized to 1.0\n",
    "\n",
    "with tf.GradientTape() as t:\n",
    "    with tf.GradientTape() as t2:\n",
    "        y = x * x * x\n",
    "\n",
    "    # Compute the gradient inside the 't' context manager\n",
    "    # which means the gradient computation is differentiable as well.\n",
    "    dy_dx = t2.gradient(y, x)\n",
    "d2y_dx2 = t.gradient(dy_dx, x)\n",
    "\n",
    "print(\"dy_dx:\", dy_dx.numpy())  # 3.0\n",
    "print(\"d2y_dx2:\", d2y_dx2.numpy())  # 6.0"
   ]
  },
  {
   "cell_type": "code",
   "execution_count": 5,
   "metadata": {},
   "outputs": [
    {
     "data": {
      "text/plain": [
       "<tf.Tensor: shape=(1,), dtype=float32, numpy=array([7.], dtype=float32)>"
      ]
     },
     "execution_count": 5,
     "metadata": {},
     "output_type": "execute_result"
    }
   ],
   "source": [
    "@tf.function\n",
    "def f(x, y):\n",
    "    return x ** 2 + y\n",
    "x = tf.constant([2],dtype=tf.float32)\n",
    "y = tf.constant([3],dtype=tf.float32)\n",
    "f(x, y)"
   ]
  },
  {
   "cell_type": "code",
   "execution_count": 6,
   "metadata": {},
   "outputs": [
    {
     "name": "stdout",
     "output_type": "stream",
     "text": [
      "tf.Tensor([ 2.  6. 12.], shape=(3,), dtype=float32)\n",
      "tf.Tensor([2. 4. 6.], shape=(3,), dtype=float32)\n",
      "tf.Tensor([1. 1. 1.], shape=(3,), dtype=float32)\n"
     ]
    }
   ],
   "source": [
    "x = tf.Variable([1,2,3],dtype=tf.float32)\n",
    "y = tf.Variable([1,2,3],dtype=tf.float32)\n",
    "with tf.GradientTape(persistent=True) as t:\n",
    "    z = f(x, y)\n",
    "print(z)\n",
    "print(t.gradient(z, x)) # dz/dx at x = 1\n",
    "print(t.gradient(z, y))"
   ]
  },
  {
   "cell_type": "code",
   "execution_count": null,
   "metadata": {},
   "outputs": [],
   "source": []
  }
 ],
 "metadata": {
  "kernelspec": {
   "display_name": "Python 3",
   "language": "python",
   "name": "python3"
  },
  "language_info": {
   "codemirror_mode": {
    "name": "ipython",
    "version": 3
   },
   "file_extension": ".py",
   "mimetype": "text/x-python",
   "name": "python",
   "nbconvert_exporter": "python",
   "pygments_lexer": "ipython3",
   "version": "3.7.6"
  }
 },
 "nbformat": 4,
 "nbformat_minor": 4
}
